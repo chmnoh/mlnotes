{
 "cells": [
  {
   "cell_type": "code",
   "execution_count": 1,
   "metadata": {},
   "outputs": [
    {
     "name": "stdout",
     "output_type": "stream",
     "text": [
      "(['아/Exclamation',\n",
      "  '더빙/Noun',\n",
      "  '../Punctuation',\n",
      "  '진짜/Noun',\n",
      "  '짜증나다/Adjective',\n",
      "  '목소리/Noun'],\n",
      " '0')\n"
     ]
    }
   ],
   "source": [
    "import pickle\n",
    "from pprint import pprint\n",
    "train_docs = pickle.load(open('senti.traindocs.bin','rb'))\n",
    "test_docs = pickle.load(open('senti.testdocs.bin','rb'))\n",
    "pprint(train_docs[0])"
   ]
  },
  {
   "cell_type": "code",
   "execution_count": 2,
   "metadata": {},
   "outputs": [],
   "source": [
    "import logging\n",
    "import torch\n",
    "import io\n",
    "from torchtext.data.utils import ngrams_iterator\n",
    "from torchtext.data.utils import get_tokenizer\n",
    "from torchtext.vocab import build_vocab_from_iterator\n",
    "from torchtext.vocab import Vocab\n",
    "from tqdm import tqdm"
   ]
  },
  {
   "cell_type": "code",
   "execution_count": 3,
   "metadata": {},
   "outputs": [],
   "source": [
    "class TextClassificationDataset(torch.utils.data.Dataset):\n",
    "    def __init__(self, vocab, data, labels):\n",
    "        super(TextClassificationDataset, self).__init__()\n",
    "        self._data = data\n",
    "        self._labels = labels\n",
    "        self._vocab = vocab\n",
    "        \n",
    "    def __getitem__(self, i):\n",
    "        return self._data[i]\n",
    "\n",
    "    def __len__(self):\n",
    "        return len(self._data)\n",
    "\n",
    "    def __iter__(self):\n",
    "        for x in self._data:\n",
    "            yield x\n",
    "\n",
    "    def get_labels(self):\n",
    "        return self._labels\n",
    "\n",
    "    def get_vocab(self):\n",
    "        return self._vocab"
   ]
  },
  {
   "cell_type": "code",
   "execution_count": 4,
   "metadata": {},
   "outputs": [],
   "source": [
    "def my_iterator(data_tuples, ngrams, yield_cls=False):\n",
    "    for tokens, cls in data_tuples:\n",
    "        if len(tokens)==0:\n",
    "            continue\n",
    "        if yield_cls:\n",
    "            yield int(cls), ngrams_iterator(tokens, ngrams)\n",
    "        else:\n",
    "            yield ngrams_iterator(tokens, ngrams)"
   ]
  },
  {
   "cell_type": "code",
   "execution_count": 5,
   "metadata": {},
   "outputs": [],
   "source": [
    "def _create_data_from_iterator(vocab, iterator, include_unk):\n",
    "    data = []\n",
    "    labels = []\n",
    "    with tqdm(unit_scale=0, unit='lines') as t:\n",
    "        for cls, tokens in iterator:\n",
    "            if include_unk:\n",
    "                tokens = torch.tensor([vocab[token] for token in tokens])\n",
    "            else:\n",
    "                token_ids = list(filter(lambda x: x is not Vocab.UNK, [vocab[token]\n",
    "                                        for token in tokens]))\n",
    "                tokens = torch.tensor(token_ids)\n",
    "            if len(tokens) == 0:\n",
    "                logging.info('Row contains no tokens.')\n",
    "            data.append((cls, tokens))\n",
    "            labels.append(cls)\n",
    "            t.update(1)\n",
    "    return data, set(labels)"
   ]
  },
  {
   "cell_type": "code",
   "execution_count": 6,
   "metadata": {},
   "outputs": [],
   "source": [
    "def _setup_datasets(train_data_tuples, test_data_tuples, ngrams=1, vocab=None, include_unk=False):\n",
    "    if vocab is None:\n",
    "        logging.info('Building Vocab based on train_data_tuples')\n",
    "        vocab = build_vocab_from_iterator(my_iterator(train_data_tuples, ngrams))\n",
    "    else:\n",
    "        if not isinstance(vocab, Vocab):\n",
    "            raise TypeError(\"Passed vocabulary is not of type Vocab\")\n",
    "    logging.info('Vocab has {} entries'.format(len(vocab)))\n",
    "    logging.info('Creating training data')\n",
    "    train_data, train_labels = _create_data_from_iterator(\n",
    "        vocab, my_iterator(train_data_tuples, ngrams, yield_cls=True), include_unk)\n",
    "    logging.info('Creating testing data')\n",
    "    test_data, test_labels = _create_data_from_iterator(\n",
    "        vocab, my_iterator(test_data_tuples, ngrams, yield_cls=True), include_unk)\n",
    "    if len(train_labels ^ test_labels) > 0:\n",
    "        raise ValueError(\"Training and test labels don't match\")\n",
    "    return (TextClassificationDataset(vocab, train_data, train_labels),\n",
    "            TextClassificationDataset(vocab, test_data, test_labels))"
   ]
  },
  {
   "cell_type": "code",
   "execution_count": 7,
   "metadata": {},
   "outputs": [
    {
     "name": "stderr",
     "output_type": "stream",
     "text": [
      "149995lines [00:02, 67795.15lines/s]\n",
      "149995lines [00:05, 25471.96lines/s]\n",
      "49997lines [00:01, 25119.82lines/s]\n"
     ]
    },
    {
     "data": {
      "text/plain": [
       "device(type='cuda')"
      ]
     },
     "execution_count": 7,
     "metadata": {},
     "output_type": "execute_result"
    }
   ],
   "source": [
    "import torch\n",
    "import torchtext\n",
    "from torchtext.datasets import text_classification\n",
    "NGRAMS = 2\n",
    "import os\n",
    "train_dataset, test_dataset = _setup_datasets(train_docs, test_docs, ngrams=NGRAMS, vocab=None)\n",
    "#if not os.path.isdir('./.data'):\n",
    "#\tos.mkdir('./.data')\n",
    "#train_dataset, test_dataset = text_classification.DATASETS['AG_NEWS'](\n",
    "#    root='./.data', ngrams=NGRAMS, vocab=None)\n",
    "BATCH_SIZE = 16\n",
    "device = torch.device(\"cuda\" if torch.cuda.is_available() else \"cpu\")\n",
    "device"
   ]
  },
  {
   "cell_type": "code",
   "execution_count": 8,
   "metadata": {},
   "outputs": [],
   "source": [
    "######################################################################\n",
    "# Define the model\n",
    "# ----------------\n",
    "#\n",
    "# The model is composed of the\n",
    "# `EmbeddingBag <https://pytorch.org/docs/stable/nn.html?highlight=embeddingbag#torch.nn.EmbeddingBag>`__\n",
    "# layer and the linear layer (see the figure below). ``nn.EmbeddingBag``\n",
    "# computes the mean value of a “bag” of embeddings. The text entries here\n",
    "# have different lengths. ``nn.EmbeddingBag`` requires no padding here\n",
    "# since the text lengths are saved in offsets.\n",
    "#\n",
    "# Additionally, since ``nn.EmbeddingBag`` accumulates the average across\n",
    "# the embeddings on the fly, ``nn.EmbeddingBag`` can enhance the\n",
    "# performance and memory efficiency to process a sequence of tensors.\n",
    "#\n",
    "# .. image:: ../_static/img/text_sentiment_ngrams_model.png\n",
    "#\n",
    "\n",
    "import torch.nn as nn\n",
    "import torch.nn.functional as F\n",
    "class TextSentiment(nn.Module):\n",
    "    def __init__(self, vocab_size, embed_dim, num_class):\n",
    "        super().__init__()\n",
    "        self.embedding = nn.EmbeddingBag(vocab_size, embed_dim, sparse=True)\n",
    "        self.fc = nn.Linear(embed_dim, num_class)\n",
    "        self.init_weights()\n",
    "\n",
    "    def init_weights(self):\n",
    "        initrange = 0.5\n",
    "        self.embedding.weight.data.uniform_(-initrange, initrange)\n",
    "        self.fc.weight.data.uniform_(-initrange, initrange)\n",
    "        self.fc.bias.data.zero_()\n",
    "\n",
    "    def forward(self, text, offsets):\n",
    "        embedded = self.embedding(text, offsets)\n",
    "        return self.fc(embedded)\n"
   ]
  },
  {
   "cell_type": "code",
   "execution_count": 9,
   "metadata": {},
   "outputs": [],
   "source": [
    "#\n",
    "\n",
    "VOCAB_SIZE = len(train_dataset.get_vocab())\n",
    "EMBED_DIM = 32\n",
    "NUN_CLASS = len(train_dataset.get_labels())\n",
    "model = TextSentiment(VOCAB_SIZE, EMBED_DIM, NUN_CLASS).to(device)\n",
    "\n",
    "\n",
    "######################################################################\n",
    "# Functions used to generate batch\n",
    "# --------------------------------\n",
    "#"
   ]
  },
  {
   "cell_type": "code",
   "execution_count": 10,
   "metadata": {},
   "outputs": [],
   "source": [
    "######################################################################\n",
    "# Since the text entries have different lengths, a custom function\n",
    "# generate_batch() is used to generate data batches and offsets. The\n",
    "# function is passed to ``collate_fn`` in ``torch.utils.data.DataLoader``.\n",
    "# The input to ``collate_fn`` is a list of tensors with the size of\n",
    "# batch_size, and the ``collate_fn`` function packs them into a\n",
    "# mini-batch. Pay attention here and make sure that ``collate_fn`` is\n",
    "# declared as a top level def. This ensures that the function is available\n",
    "# in each worker.\n",
    "#\n",
    "# The text entries in the original data batch input are packed into a list\n",
    "# and concatenated as a single tensor as the input of ``nn.EmbeddingBag``.\n",
    "# The offsets is a tensor of delimiters to represent the beginning index\n",
    "# of the individual sequence in the text tensor. Label is a tensor saving\n",
    "# the labels of individual text entries.\n",
    "#\n",
    "\n",
    "def generate_batch(batch):\n",
    "    label = torch.tensor([entry[0] for entry in batch])\n",
    "    text = [entry[1] for entry in batch]\n",
    "    offsets = [0] + [len(entry) for entry in text]\n",
    "    # torch.Tensor.cumsum returns the cumulative sum\n",
    "    # of elements in the dimension dim.\n",
    "    # torch.Tensor([1.0, 2.0, 3.0]).cumsum(dim=0)\n",
    "\n",
    "    offsets = torch.tensor(offsets[:-1]).cumsum(dim=0)\n",
    "    try:\n",
    "        text = torch.cat(text)\n",
    "    except Exception as e:\n",
    "        print(text)\n",
    "        raise e\n",
    "    return text, offsets, label"
   ]
  },
  {
   "cell_type": "code",
   "execution_count": 11,
   "metadata": {},
   "outputs": [],
   "source": [
    "######################################################################\n",
    "# Define functions to train the model and evaluate results.\n",
    "# ---------------------------------------------------------\n",
    "#\n",
    "\n",
    "\n",
    "######################################################################\n",
    "# `torch.utils.data.DataLoader <https://pytorch.org/docs/stable/data.html?highlight=dataloader#torch.utils.data.DataLoader>`__\n",
    "# is recommended for PyTorch users, and it makes data loading in parallel\n",
    "# easily (a tutorial is\n",
    "# `here <https://pytorch.org/tutorials/beginner/data_loading_tutorial.html>`__).\n",
    "# We use ``DataLoader`` here to load AG_NEWS datasets and send it to the\n",
    "# model for training/validation.\n",
    "#\n",
    "\n",
    "from torch.utils.data import DataLoader\n",
    "\n",
    "def train_func(sub_train_):\n",
    "\n",
    "    # Train the model\n",
    "    train_loss = 0\n",
    "    train_acc = 0\n",
    "    data = DataLoader(sub_train_, batch_size=BATCH_SIZE, shuffle=True,\n",
    "                      collate_fn=generate_batch)\n",
    "    for i, (text, offsets, cls) in enumerate(data):\n",
    "        optimizer.zero_grad()\n",
    "        text, offsets, cls = text.to(device), offsets.to(device), cls.to(device)\n",
    "        output = model(text, offsets)\n",
    "        loss = criterion(output, cls)\n",
    "        train_loss += loss.item()\n",
    "        loss.backward()\n",
    "        optimizer.step()\n",
    "        train_acc += (output.argmax(1) == cls).sum().item()\n",
    "\n",
    "    # Adjust the learning rate\n",
    "    scheduler.step()\n",
    "\n",
    "    return train_loss / len(sub_train_), train_acc / len(sub_train_)\n",
    "\n",
    "def test(data_):\n",
    "    loss = 0\n",
    "    acc = 0\n",
    "    data = DataLoader(data_, batch_size=BATCH_SIZE, collate_fn=generate_batch)\n",
    "    for text, offsets, cls in data:\n",
    "        text, offsets, cls = text.to(device), offsets.to(device), cls.to(device)\n",
    "        with torch.no_grad():\n",
    "            output = model(text, offsets)\n",
    "            loss = criterion(output, cls)\n",
    "            loss += loss.item()\n",
    "            acc += (output.argmax(1) == cls).sum().item()\n",
    "\n",
    "    return loss / len(data_), acc / len(data_)\n"
   ]
  },
  {
   "cell_type": "code",
   "execution_count": 12,
   "metadata": {},
   "outputs": [
    {
     "name": "stdout",
     "output_type": "stream",
     "text": [
      "Epoch: 1  | time in 0 minutes, 28 seconds\n",
      "\tLoss: 0.0294(train)\t|\tAcc: 79.3%(train)\n",
      "\tLoss: 0.0001(valid)\t|\tAcc: 78.8%(valid)\n",
      "Epoch: 2  | time in 0 minutes, 31 seconds\n",
      "\tLoss: 0.0218(train)\t|\tAcc: 86.4%(train)\n",
      "\tLoss: 0.0000(valid)\t|\tAcc: 83.6%(valid)\n",
      "Epoch: 3  | time in 0 minutes, 30 seconds\n",
      "\tLoss: 0.0182(train)\t|\tAcc: 89.5%(train)\n",
      "\tLoss: 0.0000(valid)\t|\tAcc: 85.2%(valid)\n",
      "Epoch: 4  | time in 0 minutes, 30 seconds\n",
      "\tLoss: 0.0157(train)\t|\tAcc: 91.6%(train)\n",
      "\tLoss: 0.0000(valid)\t|\tAcc: 85.7%(valid)\n",
      "Epoch: 5  | time in 0 minutes, 29 seconds\n",
      "\tLoss: 0.0137(train)\t|\tAcc: 93.2%(train)\n",
      "\tLoss: 0.0000(valid)\t|\tAcc: 85.6%(valid)\n"
     ]
    }
   ],
   "source": [
    "######################################################################\n",
    "# Split the dataset and run the model\n",
    "# -----------------------------------\n",
    "#\n",
    "# Since the original AG_NEWS has no valid dataset, we split the training\n",
    "# dataset into train/valid sets with a split ratio of 0.95 (train) and\n",
    "# 0.05 (valid). Here we use\n",
    "# `torch.utils.data.dataset.random_split <https://pytorch.org/docs/stable/data.html?highlight=random_split#torch.utils.data.random_split>`__\n",
    "# function in PyTorch core library.\n",
    "#\n",
    "# `CrossEntropyLoss <https://pytorch.org/docs/stable/nn.html?highlight=crossentropyloss#torch.nn.CrossEntropyLoss>`__\n",
    "# criterion combines nn.LogSoftmax() and nn.NLLLoss() in a single class.\n",
    "# It is useful when training a classification problem with C classes.\n",
    "# `SGD <https://pytorch.org/docs/stable/_modules/torch/optim/sgd.html>`__\n",
    "# implements stochastic gradient descent method as optimizer. The initial\n",
    "# learning rate is set to 4.0.\n",
    "# `StepLR <https://pytorch.org/docs/master/_modules/torch/optim/lr_scheduler.html#StepLR>`__\n",
    "# is used here to adjust the learning rate through epochs.\n",
    "#\n",
    "\n",
    "import time\n",
    "from torch.utils.data.dataset import random_split\n",
    "N_EPOCHS = 5\n",
    "min_valid_loss = float('inf')\n",
    "\n",
    "criterion = torch.nn.CrossEntropyLoss().to(device)\n",
    "optimizer = torch.optim.SGD(model.parameters(), lr=4.0)\n",
    "scheduler = torch.optim.lr_scheduler.StepLR(optimizer, 1, gamma=0.9)\n",
    "\n",
    "train_len = int(len(train_dataset) * 0.95)\n",
    "sub_train_, sub_valid_ = \\\n",
    "    random_split(train_dataset, [train_len, len(train_dataset) - train_len])\n",
    "\n",
    "for epoch in range(N_EPOCHS):\n",
    "\n",
    "    start_time = time.time()\n",
    "    train_loss, train_acc = train_func(sub_train_)\n",
    "    valid_loss, valid_acc = test(sub_valid_)\n",
    "\n",
    "    secs = int(time.time() - start_time)\n",
    "    mins = secs / 60\n",
    "    secs = secs % 60\n",
    "\n",
    "    print('Epoch: %d' %(epoch + 1), \" | time in %d minutes, %d seconds\" %(mins, secs))\n",
    "    print(f'\\tLoss: {train_loss:.4f}(train)\\t|\\tAcc: {train_acc * 100:.1f}%(train)')\n",
    "    print(f'\\tLoss: {valid_loss:.4f}(valid)\\t|\\tAcc: {valid_acc * 100:.1f}%(valid)')\n"
   ]
  },
  {
   "cell_type": "code",
   "execution_count": 13,
   "metadata": {},
   "outputs": [
    {
     "name": "stdout",
     "output_type": "stream",
     "text": [
      "Checking the results of test dataset...\n",
      "\tLoss: 0.0000(test)\t|\tAcc: 85.1%(test)\n"
     ]
    }
   ],
   "source": [
    "######################################################################\n",
    "# Evaluate the model with test dataset\n",
    "# ------------------------------------\n",
    "#\n",
    "\n",
    "print('Checking the results of test dataset...')\n",
    "test_loss, test_acc = test(test_dataset)\n",
    "print(f'\\tLoss: {test_loss:.4f}(test)\\t|\\tAcc: {test_acc * 100:.1f}%(test)')\n",
    "\n"
   ]
  },
  {
   "cell_type": "code",
   "execution_count": 14,
   "metadata": {},
   "outputs": [],
   "source": [
    "from konlpy.tag import Okt\n",
    "pos_tagger = Okt()\n",
    "def ko_tokenizer(doc):\n",
    "    # norm, stem은 optional\n",
    "    return ['/'.join(t) for t in pos_tagger.pos(doc, norm=True, stem=True)]"
   ]
  },
  {
   "cell_type": "code",
   "execution_count": 15,
   "metadata": {},
   "outputs": [
    {
     "name": "stdout",
     "output_type": "stream",
     "text": [
      "['영화/Noun',\n",
      " '더럽다/Adjective',\n",
      " '재미없다/Adjective',\n",
      " './Punctuation',\n",
      " '돈/Noun',\n",
      " '아깝다/Adjective',\n",
      " '움/Noun',\n",
      " '../Punctuation']\n"
     ]
    }
   ],
   "source": [
    "movie_comment = \"영화 더럽게 재미없다. 돈 아까움..\"\n",
    "pprint(ko_tokenizer(movie_comment))"
   ]
  },
  {
   "cell_type": "code",
   "execution_count": 16,
   "metadata": {},
   "outputs": [],
   "source": [
    "######################################################################\n",
    "# Test\n",
    "model = model.to(\"cpu\")\n",
    "def predict(text):\n",
    "    ngrams = NGRAMS\n",
    "    senti_label = [\"bad\", \"good\"]\n",
    "    vocab = train_dataset.get_vocab()\n",
    "    with torch.no_grad():\n",
    "        text_tensor = torch.tensor([vocab[token]\n",
    "                            for token in ngrams_iterator(ko_tokenizer(text), ngrams)])\n",
    "        output = model(text_tensor, torch.tensor([0]))\n",
    "        #print(output)\n",
    "        pred_cls = output.argmax(1).item()\n",
    "        print(\"sentiment: {} (comment={})\".format(senti_label[pred_cls], text))"
   ]
  },
  {
   "cell_type": "code",
   "execution_count": 17,
   "metadata": {},
   "outputs": [
    {
     "name": "stdout",
     "output_type": "stream",
     "text": [
      "sentiment: bad (comment=영화 더럽게 재미없다. 돈 아까움..)\n"
     ]
    }
   ],
   "source": [
    "predict(\"영화 더럽게 재미없다. 돈 아까움..\")"
   ]
  },
  {
   "cell_type": "code",
   "execution_count": 18,
   "metadata": {},
   "outputs": [
    {
     "name": "stdout",
     "output_type": "stream",
     "text": [
      "sentiment: good (comment=영화 대박 재밌지)\n"
     ]
    }
   ],
   "source": [
    "predict(\"영화 대박 재밌지\")"
   ]
  },
  {
   "cell_type": "code",
   "execution_count": 19,
   "metadata": {},
   "outputs": [
    {
     "name": "stdout",
     "output_type": "stream",
     "text": [
      "sentiment: bad (comment=그럭저럭 볼만..)\n"
     ]
    }
   ],
   "source": [
    "predict(\"그럭저럭 볼만..\")"
   ]
  },
  {
   "cell_type": "code",
   "execution_count": null,
   "metadata": {},
   "outputs": [],
   "source": []
  }
 ],
 "metadata": {
  "kernelspec": {
   "display_name": "Python 3",
   "language": "python",
   "name": "python3"
  },
  "language_info": {
   "codemirror_mode": {
    "name": "ipython",
    "version": 3
   },
   "file_extension": ".py",
   "mimetype": "text/x-python",
   "name": "python",
   "nbconvert_exporter": "python",
   "pygments_lexer": "ipython3",
   "version": "3.7.6"
  }
 },
 "nbformat": 4,
 "nbformat_minor": 4
}
