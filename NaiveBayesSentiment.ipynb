{
 "cells": [
  {
   "cell_type": "markdown",
   "metadata": {},
   "source": [
    "# code excerpted from https://www.lucypark.kr/docs/2015-pyconkr/#1"
   ]
  },
  {
   "cell_type": "code",
   "execution_count": 3,
   "metadata": {},
   "outputs": [],
   "source": [
    "import codecs\n",
    "def read_data(filename):\n",
    "    with codecs.open(filename, 'r', 'utf-8') as f:\n",
    "        data = [line.split('\\t') for line in f.read().splitlines()]\n",
    "        data = data[1:]   # header 제외\n",
    "    return data\n",
    "train_data = read_data('ratings_train.txt')\n",
    "test_data = read_data('ratings_test.txt')"
   ]
  },
  {
   "cell_type": "code",
   "execution_count": 4,
   "metadata": {},
   "outputs": [
    {
     "name": "stdout",
     "output_type": "stream",
     "text": [
      "150000\n",
      "3\n",
      "50000\n",
      "3\n"
     ]
    }
   ],
   "source": [
    "print(len(train_data))      # nrows: 150000\n",
    "print(len(train_data[0]))   # ncols: 3\n",
    "print(len(test_data))       # nrows: 50000\n",
    "print(len(test_data[0]))     # ncols: 3"
   ]
  },
  {
   "cell_type": "markdown",
   "metadata": {},
   "source": [
    "### too long time to process... (use pickled data)"
   ]
  },
  {
   "cell_type": "code",
   "execution_count": null,
   "metadata": {},
   "outputs": [],
   "source": [
    "#from konlpy.tag import Twitter\n",
    "#pos_tagger = Twitter()\n",
    "#def tokenize(doc):\n",
    "#    # norm, stem은 optional\n",
    "#    return ['/'.join(t) for t in pos_tagger.pos(doc, norm=True, stem=True)]\n",
    "#train_docs = [(tokenize(row[1]), row[2]) for row in train_data]\n",
    "#test_docs = [(tokenize(row[1]), row[2]) for row in test_data]\n",
    "## 잘 들어갔는지 확인\n",
    "#from pprint import pprint\n",
    "#pprint(train_docs[0])\n",
    "## => [(['아/Exclamation',\n",
    "##   '더빙/Noun',\n",
    "##   '../Punctuation',\n",
    "##   '진짜/Noun',\n",
    "##   '짜증/Noun',\n",
    "##   '나다/Verb',\n",
    "##   '목소리/Noun'],\n",
    "##  '0')]"
   ]
  },
  {
   "cell_type": "code",
   "execution_count": null,
   "metadata": {},
   "outputs": [],
   "source": [
    "#import pickle\n",
    "#pickle.dump(train_docs, open('senti.traindocs.bin','wb'))\n",
    "#pickle.dump(test_docs, open('senti.testdocs.bin','wb'))"
   ]
  },
  {
   "cell_type": "code",
   "execution_count": 5,
   "metadata": {},
   "outputs": [
    {
     "name": "stdout",
     "output_type": "stream",
     "text": [
      "(['아/Exclamation',\n",
      "  '더빙/Noun',\n",
      "  '../Punctuation',\n",
      "  '진짜/Noun',\n",
      "  '짜증나다/Adjective',\n",
      "  '목소리/Noun'],\n",
      " '0')\n"
     ]
    }
   ],
   "source": [
    "import pickle\n",
    "from pprint import pprint\n",
    "train_docs = pickle.load(open('senti.traindocs.bin','rb'))\n",
    "test_docs = pickle.load(open('senti.testdocs.bin','rb'))\n",
    "pprint(train_docs[0])"
   ]
  },
  {
   "cell_type": "code",
   "execution_count": 6,
   "metadata": {},
   "outputs": [
    {
     "name": "stdout",
     "output_type": "stream",
     "text": [
      "2159921\n"
     ]
    }
   ],
   "source": [
    "tokens = [t for d in train_docs for t in d[0]]\n",
    "print(len(tokens))"
   ]
  },
  {
   "cell_type": "code",
   "execution_count": 8,
   "metadata": {},
   "outputs": [
    {
     "name": "stdout",
     "output_type": "stream",
     "text": [
      "<Text: NMSC>\n"
     ]
    }
   ],
   "source": [
    "import nltk\n",
    "text = nltk.Text(tokens, name='NMSC')\n",
    "print(text)"
   ]
  },
  {
   "cell_type": "code",
   "execution_count": 9,
   "metadata": {},
   "outputs": [
    {
     "name": "stdout",
     "output_type": "stream",
     "text": [
      "2159921\n"
     ]
    }
   ],
   "source": [
    "print(len(text.tokens)) "
   ]
  },
  {
   "cell_type": "code",
   "execution_count": 10,
   "metadata": {},
   "outputs": [
    {
     "name": "stdout",
     "output_type": "stream",
     "text": [
      "49895\n"
     ]
    }
   ],
   "source": [
    "print(len(set(text.tokens)))"
   ]
  },
  {
   "cell_type": "code",
   "execution_count": 11,
   "metadata": {},
   "outputs": [
    {
     "name": "stdout",
     "output_type": "stream",
     "text": [
      "[('./Punctuation', 67778),\n",
      " ('영화/Noun', 50818),\n",
      " ('하다/Verb', 41209),\n",
      " ('이/Josa', 38540),\n",
      " ('보다/Verb', 38538),\n",
      " ('의/Josa', 30188),\n",
      " ('../Punctuation', 29055),\n",
      " ('가/Josa', 26627),\n",
      " ('에/Josa', 26468),\n",
      " ('을/Josa', 23118)]\n"
     ]
    }
   ],
   "source": [
    "pprint(text.vocab().most_common(10))"
   ]
  },
  {
   "cell_type": "code",
   "execution_count": 17,
   "metadata": {},
   "outputs": [],
   "source": [
    "from matplotlib import font_manager, rc\n",
    "import sys\n",
    "font_fname = 'c:/windows/fonts/gulim.ttc'     # A font of your choice\n",
    "if sys.platform == 'darwin':\n",
    "    font_fname = '/Library/Fonts/Arial Unicode.ttf'\n",
    "font_name = font_manager.FontProperties(fname=font_fname).get_name()\n",
    "rc('font', family=font_name)"
   ]
  },
  {
   "cell_type": "code",
   "execution_count": 18,
   "metadata": {},
   "outputs": [
    {
     "data": {
      "image/png": "[encoded data removed]",
      "text/plain": [
       "<Figure size 432x288 with 1 Axes>"
      ]
     },
     "metadata": {
      "needs_background": "light"
     },
     "output_type": "display_data"
    }
   ],
   "source": [
    "text.plot(30)     # Plot sorted frequency of top 30 tokens"
   ]
  },
  {
   "cell_type": "markdown",
   "metadata": {},
   "source": [
    "### Warning: more features need much more memory..."
   ]
  },
  {
   "cell_type": "code",
   "execution_count": 19,
   "metadata": {},
   "outputs": [],
   "source": [
    "# 여기서는 최빈도 단어 100개를 피쳐로 사용\n",
    "# WARNING: 쉬운 이해를 위한 코드이며 time/memory efficient하지 않습니다\n",
    "selected_words = [f[0] for f in text.vocab().most_common(100)]\n",
    "def term_exists(doc):\n",
    "    return {'exists({})'.format(word): (word in set(doc)) for word in selected_words}\n",
    "# 시간 단축을 위한 꼼수로 training corpus의 일부만 사용할 수 있음\n",
    "train_docs = train_docs[:2000]\n",
    "train_xy = [(term_exists(d), c) for d, c in train_docs]\n",
    "test_xy = [(term_exists(d), c) for d, c in test_docs[:1000]]"
   ]
  },
  {
   "cell_type": "code",
   "execution_count": 20,
   "metadata": {},
   "outputs": [
    {
     "name": "stdout",
     "output_type": "stream",
     "text": [
      "0.719\n",
      "Most Informative Features\n",
      "  exists(재미없다/Adjective) = True                0 : 1      =     16.6 : 1.0\n",
      "   exists(아깝다/Adjective) = True                0 : 1      =     15.8 : 1.0\n",
      "        exists(쓰레기/Noun) = True                0 : 1      =     14.7 : 1.0\n",
      "         exists(최고/Noun) = True                1 : 0      =     12.2 : 1.0\n",
      "   exists(재밌다/Adjective) = True                1 : 0      =      9.0 : 1.0\n",
      "          exists(뭐/Noun) = True                0 : 1      =      7.0 : 1.0\n",
      "  exists(!!/Punctuation) = True                1 : 0      =      6.2 : 1.0\n",
      "  exists(지루하다/Adjective) = True                0 : 1      =      4.6 : 1.0\n",
      "   exists(!/Punctuation) = True                1 : 0      =      4.1 : 1.0\n",
      "  exists(재미있다/Adjective) = True                1 : 0      =      3.9 : 1.0\n"
     ]
    }
   ],
   "source": [
    "# 초간단함\n",
    "classifier = nltk.NaiveBayesClassifier.train(train_xy)\n",
    "print(nltk.classify.accuracy(classifier, test_xy))\n",
    "classifier.show_most_informative_features(10)\n",
    "# => Most Informative Features\n",
    "#        exists(수작/Noun) = True                1 : 0      =     38.0 : 1.0\n",
    "#        exists(최악/Noun) = True                0 : 1      =     30.1 : 1.0\n",
    "#      exists(♥/Foreign) = True                1 : 0      =     24.5 : 1.0\n",
    "#        exists(노잼/Noun) = True                0 : 1      =     22.1 : 1.0\n",
    "#        exists(낭비/Noun) = True                0 : 1      =     19.5 : 1.0\n",
    "#       exists(쓰레기/Noun) = True                0 : 1      =     19.4 : 1.0\n",
    "#        exists(여운/Noun) = True                1 : 0      =     18.9 : 1.0\n",
    "#       exists(발연기/Noun) = True                0 : 1      =     16.9 : 1.0\n",
    "#         exists(굿/Noun) = True                1 : 0      =     16.9 : 1.0\n",
    "#       exists(최고다/Noun) = True                1 : 0      =     15.9 : 1.0"
   ]
  },
  {
   "cell_type": "code",
   "execution_count": 21,
   "metadata": {},
   "outputs": [
    {
     "data": {
      "text/plain": [
       "(['지루하다/Adjective',\n",
       "  '않다/Verb',\n",
       "  '완전/Noun',\n",
       "  '막장/Noun',\n",
       "  '임/Noun',\n",
       "  '.../Punctuation',\n",
       "  '돈/Noun',\n",
       "  '주다/Verb',\n",
       "  '보기/Noun',\n",
       "  '에는/Josa',\n",
       "  '..../Punctuation'],\n",
       " '0')"
      ]
     },
     "execution_count": 21,
     "metadata": {},
     "output_type": "execute_result"
    }
   ],
   "source": [
    "test_docs[3]"
   ]
  },
  {
   "cell_type": "code",
   "execution_count": 22,
   "metadata": {
    "scrolled": true
   },
   "outputs": [
    {
     "name": "stdout",
     "output_type": "stream",
     "text": [
      "({'exists(!!/Punctuation)': False,\n",
      "  'exists(!/Punctuation)': False,\n",
      "  'exists(,/Punctuation)': False,\n",
      "  'exists(..../Punctuation)': True,\n",
      "  'exists(.../Punctuation)': True,\n",
      "  'exists(../Punctuation)': False,\n",
      "  'exists(./Punctuation)': False,\n",
      "  'exists(1/Number)': False,\n",
      "  'exists(?/Punctuation)': False,\n",
      "  'exists(~/Punctuation)': False,\n",
      "  'exists(ㅋㅋ/KoreanParticle)': False,\n",
      "  'exists(ㅋㅋㅋ/KoreanParticle)': False,\n",
      "  'exists(가/Josa)': False,\n",
      "  'exists(가다/Verb)': False,\n",
      "  'exists(감독/Noun)': False,\n",
      "  'exists(감동/Noun)': False,\n",
      "  'exists(같다/Adjective)': False,\n",
      "  'exists(거/Noun)': False,\n",
      "  'exists(것/Noun)': False,\n",
      "  'exists(게/Josa)': False,\n",
      "  'exists(고/Josa)': False,\n",
      "  'exists(과/Josa)': False,\n",
      "  'exists(그/Noun)': False,\n",
      "  'exists(그냥/Noun)': False,\n",
      "  'exists(그렇다/Adjective)': False,\n",
      "  'exists(까지/Josa)': False,\n",
      "  'exists(나/Noun)': False,\n",
      "  'exists(나오다/Verb)': False,\n",
      "  'exists(내/Noun)': False,\n",
      "  'exists(내용/Noun)': False,\n",
      "  'exists(너무/Adverb)': False,\n",
      "  'exists(는/Josa)': False,\n",
      "  'exists(다/Adverb)': False,\n",
      "  'exists(다/Josa)': False,\n",
      "  'exists(더/Noun)': False,\n",
      "  'exists(도/Josa)': False,\n",
      "  'exists(되다/Verb)': False,\n",
      "  'exists(드라마/Noun)': False,\n",
      "  'exists(들/Suffix)': False,\n",
      "  'exists(들다/Verb)': False,\n",
      "  'exists(때/Noun)': False,\n",
      "  'exists(로/Josa)': False,\n",
      "  'exists(를/Josa)': False,\n",
      "  'exists(만/Josa)': False,\n",
      "  'exists(만들다/Verb)': False,\n",
      "  'exists(말/Noun)': False,\n",
      "  'exists(모르다/Verb)': False,\n",
      "  'exists(못/VerbPrefix)': False,\n",
      "  'exists(뭐/Noun)': False,\n",
      "  'exists(배우/Noun)': False,\n",
      "  'exists(보고/Noun)': False,\n",
      "  'exists(보다/Verb)': False,\n",
      "  'exists(사람/Noun)': False,\n",
      "  'exists(생각/Noun)': False,\n",
      "  'exists(수/Noun)': False,\n",
      "  'exists(스토리/Noun)': False,\n",
      "  'exists(시간/Noun)': False,\n",
      "  'exists(쓰레기/Noun)': False,\n",
      "  'exists(아깝다/Adjective)': False,\n",
      "  'exists(아니다/Adjective)': False,\n",
      "  'exists(안/VerbPrefix)': False,\n",
      "  'exists(않다/Verb)': True,\n",
      "  'exists(없다/Adjective)': False,\n",
      "  'exists(에/Josa)': False,\n",
      "  'exists(에서/Josa)': False,\n",
      "  'exists(연기/Noun)': False,\n",
      "  'exists(영화/Noun)': False,\n",
      "  'exists(와/Josa)': False,\n",
      "  'exists(왜/Noun)': False,\n",
      "  'exists(으로/Josa)': False,\n",
      "  'exists(은/Josa)': False,\n",
      "  'exists(을/Josa)': False,\n",
      "  'exists(의/Josa)': False,\n",
      "  'exists(이/Determiner)': False,\n",
      "  'exists(이/Josa)': False,\n",
      "  'exists(이/Noun)': False,\n",
      "  'exists(이다/Josa)': False,\n",
      "  'exists(이다/Verb)': False,\n",
      "  'exists(이렇다/Adjective)': False,\n",
      "  'exists(인/Josa)': False,\n",
      "  'exists(있다/Adjective)': False,\n",
      "  'exists(자다/Verb)': False,\n",
      "  'exists(재미/Noun)': False,\n",
      "  'exists(재미없다/Adjective)': False,\n",
      "  'exists(재미있다/Adjective)': False,\n",
      "  'exists(재밌다/Adjective)': False,\n",
      "  'exists(적/Suffix)': False,\n",
      "  'exists(점/Noun)': False,\n",
      "  'exists(정말/Noun)': False,\n",
      "  'exists(좀/Noun)': False,\n",
      "  'exists(좋다/Adjective)': False,\n",
      "  'exists(주다/Verb)': True,\n",
      "  'exists(지루하다/Adjective)': True,\n",
      "  'exists(진짜/Noun)': False,\n",
      "  'exists(최고/Noun)': False,\n",
      "  'exists(평점/Noun)': False,\n",
      "  'exists(하고/Josa)': False,\n",
      "  'exists(하다/Verb)': False,\n",
      "  'exists(한/Determiner)': False,\n",
      "  'exists(한/Josa)': False},\n",
      " '0')\n"
     ]
    }
   ],
   "source": [
    "pprint(test_xy[3])"
   ]
  },
  {
   "cell_type": "code",
   "execution_count": 23,
   "metadata": {},
   "outputs": [
    {
     "data": {
      "text/plain": [
       "'0'"
      ]
     },
     "execution_count": 23,
     "metadata": {},
     "output_type": "execute_result"
    }
   ],
   "source": [
    "classifier.classify(train_xy[3][0])"
   ]
  },
  {
   "cell_type": "code",
   "execution_count": 24,
   "metadata": {},
   "outputs": [
    {
     "data": {
      "text/plain": [
       "(['뭐/Noun',\n",
       "  '야/Josa',\n",
       "  '이/Noun',\n",
       "  '평점/Noun',\n",
       "  '들/Suffix',\n",
       "  '은/Josa',\n",
       "  '..../Punctuation',\n",
       "  '나쁘다/Adjective',\n",
       "  '않다/Verb',\n",
       "  '10/Number',\n",
       "  '점/Noun',\n",
       "  '짜다/Verb',\n",
       "  '리/Noun',\n",
       "  '는/Josa',\n",
       "  '더/Noun',\n",
       "  '더욱/Noun',\n",
       "  '아니다/Adjective'],\n",
       " '0')"
      ]
     },
     "execution_count": 24,
     "metadata": {},
     "output_type": "execute_result"
    }
   ],
   "source": [
    "test_docs[2]"
   ]
  },
  {
   "cell_type": "code",
   "execution_count": 25,
   "metadata": {},
   "outputs": [
    {
     "data": {
      "text/plain": [
       "'1'"
      ]
     },
     "execution_count": 25,
     "metadata": {},
     "output_type": "execute_result"
    }
   ],
   "source": [
    "classifier.classify(train_xy[2][0])"
   ]
  },
  {
   "cell_type": "code",
   "execution_count": null,
   "metadata": {},
   "outputs": [],
   "source": []
  }
 ],
 "metadata": {
  "kernelspec": {
   "display_name": "Python 3",
   "language": "python",
   "name": "python3"
  },
  "language_info": {
   "codemirror_mode": {
    "name": "ipython",
    "version": 3
   },
   "file_extension": ".py",
   "mimetype": "text/x-python",
   "name": "python",
   "nbconvert_exporter": "python",
   "pygments_lexer": "ipython3",
   "version": "3.7.3"
  }
 },
 "nbformat": 4,
 "nbformat_minor": 4
}
